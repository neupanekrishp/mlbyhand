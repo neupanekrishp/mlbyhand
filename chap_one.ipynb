{
 "cells": [
  {
   "cell_type": "code",
   "execution_count": 1,
   "metadata": {},
   "outputs": [
    {
     "name": "stdout",
     "output_type": "stream",
     "text": [
      "Number of samples: 150\n",
      "Number of features: 4\n"
     ]
    },
    {
     "data": {
      "text/plain": [
       "((150, 4), (150, 1))"
      ]
     },
     "execution_count": 1,
     "metadata": {},
     "output_type": "execute_result"
    }
   ],
   "source": [
    "import polars as pl\n",
    "from sklearn.datasets import load_iris\n",
    "import numpy as np\n",
    "import warnings\n",
    "warnings.filterwarnings('ignore')\n",
    "iris = load_iris()\n",
    "X = pl.from_numpy(iris['data'])\n",
    "y = pl.from_numpy(iris['target'])\n",
    "n_samples, n_features = X.shape\n",
    "\n",
    "print('Number of samples:', n_samples)\n",
    "print('Number of features:', n_features)\n",
    "\n",
    "X.shape, y.shape"
   ]
  },
  {
   "cell_type": "markdown",
   "metadata": {},
   "source": [
    "# PCA with Covariance Method"
   ]
  },
  {
   "cell_type": "markdown",
   "metadata": {},
   "source": [
    "### 1. Standardize the data"
   ]
  },
  {
   "cell_type": "code",
   "execution_count": 46,
   "metadata": {},
   "outputs": [],
   "source": [
    "def mean(xList: list) ->np.float:\n",
    "    \"\"\"Calculates the mean.\n",
    "    Args:\n",
    "      xList: a list of integers or floats.\n",
    "    Returns:\n",
    "      The average value.\n",
    "    Raises:\n",
    "      TypeError: If no available port is found.\n",
    "    \"\"\"\n",
    "    if not isinstance(xList, list):\n",
    "        return TypeError(f'invalid {type(xList)}, requires list')\n",
    "    return sum(xList)/len(xList)\n",
    "\n",
    "\n",
    "def std(xList: list) ->np.float:\n",
    "    \"\"\"Calculates the standard deviation.\n",
    "    Args:\n",
    "      xList: a list of integers or floats.\n",
    "    Returns:\n",
    "      The standard deviation value.\n",
    "    Raises:\n",
    "      TypeError: If no available port is found.\n",
    "    \"\"\"\n",
    "    if not isinstance(xList, list):\n",
    "        return TypeError(f'invalid {type(xList)}, requires list')\n",
    "    return (sum((i - mean(xList))**2 for i in xList)/len(xList))**0.5\n",
    "\n",
    "\n",
    "def standardize(xList: list):\n",
    "    \"\"\" standardization the data (zero mean, unit std dev).\n",
    "    Args:\n",
    "      xList: a list of integers or floats.\n",
    "    Returns:\n",
    "      The standardized values value.\n",
    "    Raises:\n",
    "      TypeError: If no available port is found.\n",
    "    \"\"\"\n",
    "    # if not isinstance(xList, list):\n",
    "    #     return TypeError(f'invalid {type(xList)}, requires list')\n",
    "    \n",
    "    # if  std(xList) ==0:\n",
    "    #     return AssertionError(f'invalid std. dev. {std(xList)} is invalid')\n",
    "    return (xList-mean(xList)/std(xList))\n",
    "\n",
    "x=[2.0, 6.0]\n"
   ]
  },
  {
   "cell_type": "code",
   "execution_count": 45,
   "metadata": {},
   "outputs": [
    {
     "ename": "SyntaxError",
     "evalue": "invalid syntax (2361207284.py, line 1)",
     "output_type": "error",
     "traceback": [
      "\u001b[0;36m  Cell \u001b[0;32mIn[45], line 1\u001b[0;36m\u001b[0m\n\u001b[0;31m    https://medium.com/swlh/eigen-theory-from-the-scratch-a73e0b5a25da\u001b[0m\n\u001b[0m          ^\u001b[0m\n\u001b[0;31mSyntaxError\u001b[0m\u001b[0;31m:\u001b[0m invalid syntax\n"
     ]
    }
   ],
   "source": [
    "\n",
    "https://medium.com/swlh/eigen-theory-from-the-scratch-a73e0b5a25da\n",
    "https://bagheri365.github.io/blog/Principal-Component-Analysis-from-Scratch/\n"
   ]
  }
 ],
 "metadata": {
  "kernelspec": {
   "display_name": "base",
   "language": "python",
   "name": "python3"
  },
  "language_info": {
   "codemirror_mode": {
    "name": "ipython",
    "version": 3
   },
   "file_extension": ".py",
   "mimetype": "text/x-python",
   "name": "python",
   "nbconvert_exporter": "python",
   "pygments_lexer": "ipython3",
   "version": "3.8.13"
  }
 },
 "nbformat": 4,
 "nbformat_minor": 2
}
